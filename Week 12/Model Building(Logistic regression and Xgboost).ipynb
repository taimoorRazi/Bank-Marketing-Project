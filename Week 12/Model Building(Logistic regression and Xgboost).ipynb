{
 "cells": [
  {
   "cell_type": "markdown",
   "id": "9fcd2e48",
   "metadata": {},
   "source": [
    "# Bank Marketing Campaign "
   ]
  },
  {
   "cell_type": "markdown",
   "id": "5274589a",
   "metadata": {},
   "source": [
    "**The aim of this notebook is to build a machine learning model to help ABC Bank identify the right customers to target\n",
    "for their marketing campaign by classification of people buying term deposit or not.**\n",
    "\n",
    "\n",
    "# Exploratory Data Analysis\n",
    "\n",
    "In this notebook, we will go through the following steps. \n",
    "\n",
    "1. Data Preparation\n",
    "   \n",
    "   - Importing libraries\n",
    "   - Data Ingestion\n",
    "   - Data Overview/(Data Intake)\n",
    "   - Categorical & Numerical variables\n",
    "   \n",
    "\n",
    "2. **Model Preparation**\n",
    "\n",
    "\n",
    "3. **Model Building**\n",
    "            \n",
    "    \n",
    "4. Communication\n",
    "\n",
    "==================================================================================================="
   ]
  },
  {
   "cell_type": "markdown",
   "id": "72da3f25",
   "metadata": {},
   "source": [
    "# Data Preparation"
   ]
  },
  {
   "cell_type": "markdown",
   "id": "242a5451",
   "metadata": {},
   "source": [
    " ## Import Libraries "
   ]
  },
  {
   "cell_type": "code",
   "execution_count": 1,
   "id": "fdef846b",
   "metadata": {},
   "outputs": [],
   "source": [
    "# !pip install feature_engine"
   ]
  },
  {
   "cell_type": "code",
   "execution_count": 2,
   "id": "e244529d",
   "metadata": {},
   "outputs": [],
   "source": [
    "import pandas as pd\n",
    "import matplotlib.pyplot as plt\n",
    "import seaborn as sns\n",
    "import numpy as np\n",
    "\n",
    "import xgboost\n",
    "from sklearn.metrics import accuracy_score #metrics\n",
    "\n",
    "# from feature-engine\n",
    "from feature_engine.imputation import (\n",
    "    AddMissingIndicator,\n",
    "    MeanMedianImputer,\n",
    "    CategoricalImputer,\n",
    ")\n",
    "\n",
    "from feature_engine.transformation import (\n",
    "    LogTransformer,\n",
    "    YeoJohnsonTransformer,\n",
    ")\n",
    "\n",
    "from sklearn.preprocessing import MinMaxScaler,LabelEncoder\n",
    "\n",
    "from imblearn.over_sampling import RandomOverSampler\n",
    "from sklearn.ensemble import RandomForestClassifier\n",
    "from sklearn.metrics import ConfusionMatrixDisplay\n",
    "from sklearn.model_selection import GridSearchCV, cross_val_score, train_test_split\n",
    "from sklearn.pipeline import make_pipeline"
   ]
  },
  {
   "cell_type": "code",
   "execution_count": 3,
   "id": "49d17344",
   "metadata": {},
   "outputs": [],
   "source": [
    "import warnings\n",
    "warnings.filterwarnings('ignore')"
   ]
  },
  {
   "cell_type": "markdown",
   "id": "df4059cf",
   "metadata": {},
   "source": [
    "## Data Ingestion"
   ]
  },
  {
   "cell_type": "markdown",
   "id": "27e0972e",
   "metadata": {},
   "source": [
    "### Testutility file"
   ]
  },
  {
   "cell_type": "code",
   "execution_count": 4,
   "id": "f8c8382e",
   "metadata": {},
   "outputs": [
    {
     "name": "stdout",
     "output_type": "stream",
     "text": [
      "Overwriting testutility.py\n"
     ]
    }
   ],
   "source": [
    "%%writefile testutility.py\n",
    "import logging\n",
    "import os\n",
    "import subprocess\n",
    "import yaml \n",
    "import pandas as pd\n",
    "import datetime\n",
    "import gc\n",
    "import re\n",
    "\n",
    "#################\n",
    "# File Reading #\n",
    "#################\n",
    "\n",
    "def read_config_file(filepath):\n",
    "  with open(filepath, \"r\") as stream:\n",
    "    try:\n",
    "      return yaml.safe_load(stream)\n",
    "    except yaml.YAMLError as exc:\n",
    "      logging.error(exc)"
   ]
  },
  {
   "cell_type": "markdown",
   "id": "a5a1568f",
   "metadata": {},
   "source": [
    "### Yaml file"
   ]
  },
  {
   "cell_type": "code",
   "execution_count": 5,
   "id": "2c5b7f3d",
   "metadata": {},
   "outputs": [
    {
     "name": "stdout",
     "output_type": "stream",
     "text": [
      "Overwriting file.yaml\n"
     ]
    }
   ],
   "source": [
    "%%writefile file.yaml\n",
    "file_type: csv\n",
    "dataset_name: testfile\n",
    "file_name: bank-additional-full\n",
    "table_name: edsurv\n",
    "inbound_delimeter: \";\"\n",
    "outbound_delimeter: \"|\""
   ]
  },
  {
   "cell_type": "code",
   "execution_count": 6,
   "id": "0794eb9d",
   "metadata": {},
   "outputs": [],
   "source": [
    "# Read Config file\n",
    "import testutility as util\n",
    "config_data = util.read_config_file(\"file.yaml\")"
   ]
  },
  {
   "cell_type": "code",
   "execution_count": 7,
   "id": "68021aa8",
   "metadata": {},
   "outputs": [
    {
     "data": {
      "text/plain": [
       "'bank-additional-full'"
      ]
     },
     "execution_count": 7,
     "metadata": {},
     "output_type": "execute_result"
    }
   ],
   "source": [
    "config_data[\"file_name\"]"
   ]
  },
  {
   "cell_type": "code",
   "execution_count": 8,
   "id": "48c4ab7e",
   "metadata": {},
   "outputs": [],
   "source": [
    "# read the files using config file\n",
    "file_type = config_data[\"file_type\"]\n",
    "source_file = \"./\" + config_data[\"file_name\"] + f\".{file_type}\"\n",
    "\n",
    "# print(\"\", source_file)\n",
    "df = pd.read_csv(source_file, config_data[\"inbound_delimeter\"])"
   ]
  },
  {
   "cell_type": "markdown",
   "id": "23427976",
   "metadata": {},
   "source": [
    "## Data Overview"
   ]
  },
  {
   "cell_type": "code",
   "execution_count": 9,
   "id": "a083895f",
   "metadata": {},
   "outputs": [
    {
     "data": {
      "text/plain": [
       "(41188, 21)"
      ]
     },
     "execution_count": 9,
     "metadata": {},
     "output_type": "execute_result"
    }
   ],
   "source": [
    "df.shape"
   ]
  },
  {
   "cell_type": "code",
   "execution_count": 10,
   "id": "9a4c8e1a",
   "metadata": {},
   "outputs": [
    {
     "data": {
      "text/html": [
       "<div>\n",
       "<style scoped>\n",
       "    .dataframe tbody tr th:only-of-type {\n",
       "        vertical-align: middle;\n",
       "    }\n",
       "\n",
       "    .dataframe tbody tr th {\n",
       "        vertical-align: top;\n",
       "    }\n",
       "\n",
       "    .dataframe thead th {\n",
       "        text-align: right;\n",
       "    }\n",
       "</style>\n",
       "<table border=\"1\" class=\"dataframe\">\n",
       "  <thead>\n",
       "    <tr style=\"text-align: right;\">\n",
       "      <th></th>\n",
       "      <th>age</th>\n",
       "      <th>job</th>\n",
       "      <th>marital</th>\n",
       "      <th>education</th>\n",
       "      <th>default</th>\n",
       "      <th>housing</th>\n",
       "      <th>loan</th>\n",
       "      <th>contact</th>\n",
       "      <th>month</th>\n",
       "      <th>day_of_week</th>\n",
       "      <th>...</th>\n",
       "      <th>campaign</th>\n",
       "      <th>pdays</th>\n",
       "      <th>previous</th>\n",
       "      <th>poutcome</th>\n",
       "      <th>emp.var.rate</th>\n",
       "      <th>cons.price.idx</th>\n",
       "      <th>cons.conf.idx</th>\n",
       "      <th>euribor3m</th>\n",
       "      <th>nr.employed</th>\n",
       "      <th>y</th>\n",
       "    </tr>\n",
       "  </thead>\n",
       "  <tbody>\n",
       "    <tr>\n",
       "      <th>0</th>\n",
       "      <td>56</td>\n",
       "      <td>housemaid</td>\n",
       "      <td>married</td>\n",
       "      <td>basic.4y</td>\n",
       "      <td>no</td>\n",
       "      <td>no</td>\n",
       "      <td>no</td>\n",
       "      <td>telephone</td>\n",
       "      <td>may</td>\n",
       "      <td>mon</td>\n",
       "      <td>...</td>\n",
       "      <td>1</td>\n",
       "      <td>999</td>\n",
       "      <td>0</td>\n",
       "      <td>nonexistent</td>\n",
       "      <td>1.1</td>\n",
       "      <td>93.994</td>\n",
       "      <td>-36.4</td>\n",
       "      <td>4.857</td>\n",
       "      <td>5191.0</td>\n",
       "      <td>no</td>\n",
       "    </tr>\n",
       "    <tr>\n",
       "      <th>1</th>\n",
       "      <td>57</td>\n",
       "      <td>services</td>\n",
       "      <td>married</td>\n",
       "      <td>high.school</td>\n",
       "      <td>unknown</td>\n",
       "      <td>no</td>\n",
       "      <td>no</td>\n",
       "      <td>telephone</td>\n",
       "      <td>may</td>\n",
       "      <td>mon</td>\n",
       "      <td>...</td>\n",
       "      <td>1</td>\n",
       "      <td>999</td>\n",
       "      <td>0</td>\n",
       "      <td>nonexistent</td>\n",
       "      <td>1.1</td>\n",
       "      <td>93.994</td>\n",
       "      <td>-36.4</td>\n",
       "      <td>4.857</td>\n",
       "      <td>5191.0</td>\n",
       "      <td>no</td>\n",
       "    </tr>\n",
       "    <tr>\n",
       "      <th>2</th>\n",
       "      <td>37</td>\n",
       "      <td>services</td>\n",
       "      <td>married</td>\n",
       "      <td>high.school</td>\n",
       "      <td>no</td>\n",
       "      <td>yes</td>\n",
       "      <td>no</td>\n",
       "      <td>telephone</td>\n",
       "      <td>may</td>\n",
       "      <td>mon</td>\n",
       "      <td>...</td>\n",
       "      <td>1</td>\n",
       "      <td>999</td>\n",
       "      <td>0</td>\n",
       "      <td>nonexistent</td>\n",
       "      <td>1.1</td>\n",
       "      <td>93.994</td>\n",
       "      <td>-36.4</td>\n",
       "      <td>4.857</td>\n",
       "      <td>5191.0</td>\n",
       "      <td>no</td>\n",
       "    </tr>\n",
       "    <tr>\n",
       "      <th>3</th>\n",
       "      <td>40</td>\n",
       "      <td>admin.</td>\n",
       "      <td>married</td>\n",
       "      <td>basic.6y</td>\n",
       "      <td>no</td>\n",
       "      <td>no</td>\n",
       "      <td>no</td>\n",
       "      <td>telephone</td>\n",
       "      <td>may</td>\n",
       "      <td>mon</td>\n",
       "      <td>...</td>\n",
       "      <td>1</td>\n",
       "      <td>999</td>\n",
       "      <td>0</td>\n",
       "      <td>nonexistent</td>\n",
       "      <td>1.1</td>\n",
       "      <td>93.994</td>\n",
       "      <td>-36.4</td>\n",
       "      <td>4.857</td>\n",
       "      <td>5191.0</td>\n",
       "      <td>no</td>\n",
       "    </tr>\n",
       "    <tr>\n",
       "      <th>4</th>\n",
       "      <td>56</td>\n",
       "      <td>services</td>\n",
       "      <td>married</td>\n",
       "      <td>high.school</td>\n",
       "      <td>no</td>\n",
       "      <td>no</td>\n",
       "      <td>yes</td>\n",
       "      <td>telephone</td>\n",
       "      <td>may</td>\n",
       "      <td>mon</td>\n",
       "      <td>...</td>\n",
       "      <td>1</td>\n",
       "      <td>999</td>\n",
       "      <td>0</td>\n",
       "      <td>nonexistent</td>\n",
       "      <td>1.1</td>\n",
       "      <td>93.994</td>\n",
       "      <td>-36.4</td>\n",
       "      <td>4.857</td>\n",
       "      <td>5191.0</td>\n",
       "      <td>no</td>\n",
       "    </tr>\n",
       "  </tbody>\n",
       "</table>\n",
       "<p>5 rows × 21 columns</p>\n",
       "</div>"
      ],
      "text/plain": [
       "   age        job  marital    education  default housing loan    contact  \\\n",
       "0   56  housemaid  married     basic.4y       no      no   no  telephone   \n",
       "1   57   services  married  high.school  unknown      no   no  telephone   \n",
       "2   37   services  married  high.school       no     yes   no  telephone   \n",
       "3   40     admin.  married     basic.6y       no      no   no  telephone   \n",
       "4   56   services  married  high.school       no      no  yes  telephone   \n",
       "\n",
       "  month day_of_week  ...  campaign  pdays  previous     poutcome emp.var.rate  \\\n",
       "0   may         mon  ...         1    999         0  nonexistent          1.1   \n",
       "1   may         mon  ...         1    999         0  nonexistent          1.1   \n",
       "2   may         mon  ...         1    999         0  nonexistent          1.1   \n",
       "3   may         mon  ...         1    999         0  nonexistent          1.1   \n",
       "4   may         mon  ...         1    999         0  nonexistent          1.1   \n",
       "\n",
       "   cons.price.idx  cons.conf.idx  euribor3m  nr.employed   y  \n",
       "0          93.994          -36.4      4.857       5191.0  no  \n",
       "1          93.994          -36.4      4.857       5191.0  no  \n",
       "2          93.994          -36.4      4.857       5191.0  no  \n",
       "3          93.994          -36.4      4.857       5191.0  no  \n",
       "4          93.994          -36.4      4.857       5191.0  no  \n",
       "\n",
       "[5 rows x 21 columns]"
      ]
     },
     "execution_count": 10,
     "metadata": {},
     "output_type": "execute_result"
    }
   ],
   "source": [
    "df.head()"
   ]
  },
  {
   "cell_type": "code",
   "execution_count": 11,
   "id": "30420a8f",
   "metadata": {},
   "outputs": [
    {
     "name": "stdout",
     "output_type": "stream",
     "text": [
      "<class 'pandas.core.frame.DataFrame'>\n",
      "RangeIndex: 41188 entries, 0 to 41187\n",
      "Data columns (total 21 columns):\n",
      " #   Column          Non-Null Count  Dtype  \n",
      "---  ------          --------------  -----  \n",
      " 0   age             41188 non-null  int64  \n",
      " 1   job             41188 non-null  object \n",
      " 2   marital         41188 non-null  object \n",
      " 3   education       41188 non-null  object \n",
      " 4   default         41188 non-null  object \n",
      " 5   housing         41188 non-null  object \n",
      " 6   loan            41188 non-null  object \n",
      " 7   contact         41188 non-null  object \n",
      " 8   month           41188 non-null  object \n",
      " 9   day_of_week     41188 non-null  object \n",
      " 10  duration        41188 non-null  int64  \n",
      " 11  campaign        41188 non-null  int64  \n",
      " 12  pdays           41188 non-null  int64  \n",
      " 13  previous        41188 non-null  int64  \n",
      " 14  poutcome        41188 non-null  object \n",
      " 15  emp.var.rate    41188 non-null  float64\n",
      " 16  cons.price.idx  41188 non-null  float64\n",
      " 17  cons.conf.idx   41188 non-null  float64\n",
      " 18  euribor3m       41188 non-null  float64\n",
      " 19  nr.employed     41188 non-null  float64\n",
      " 20  y               41188 non-null  object \n",
      "dtypes: float64(5), int64(5), object(11)\n",
      "memory usage: 6.6+ MB\n"
     ]
    }
   ],
   "source": [
    "df.info()"
   ]
  },
  {
   "cell_type": "code",
   "execution_count": 12,
   "id": "9286d488",
   "metadata": {},
   "outputs": [],
   "source": [
    "import os\n",
    "def summary(df, source_file):\n",
    "    rows = len(df)\n",
    "    columns = len(df.columns)\n",
    "    print(f\"Number of Rows: {rows}\")\n",
    "    print(f\"Number of Columns: {columns}\")\n",
    "    file_size = os.path.getsize(source_file)\n",
    "    print(f\"Size: {file_size} bytes\")"
   ]
  },
  {
   "cell_type": "code",
   "execution_count": 13,
   "id": "0822f6c4",
   "metadata": {},
   "outputs": [
    {
     "name": "stdout",
     "output_type": "stream",
     "text": [
      "Number of Rows: 41188\n",
      "Number of Columns: 21\n",
      "Size: 5834924 bytes\n"
     ]
    }
   ],
   "source": [
    "summary(df, source_file)"
   ]
  },
  {
   "cell_type": "code",
   "execution_count": 14,
   "id": "109e3825",
   "metadata": {},
   "outputs": [
    {
     "data": {
      "text/plain": [
       "Index(['age', 'job', 'marital', 'education', 'default', 'housing', 'loan',\n",
       "       'contact', 'month', 'day_of_week', 'duration', 'campaign', 'pdays',\n",
       "       'previous', 'poutcome', 'emp.var.rate', 'cons.price.idx',\n",
       "       'cons.conf.idx', 'euribor3m', 'nr.employed', 'y'],\n",
       "      dtype='object')"
      ]
     },
     "execution_count": 14,
     "metadata": {},
     "output_type": "execute_result"
    }
   ],
   "source": [
    "df.columns"
   ]
  },
  {
   "cell_type": "code",
   "execution_count": 15,
   "id": "f3c136ea",
   "metadata": {},
   "outputs": [
    {
     "data": {
      "text/plain": [
       "12"
      ]
     },
     "execution_count": 15,
     "metadata": {},
     "output_type": "execute_result"
    }
   ],
   "source": [
    "df.duplicated().sum()"
   ]
  },
  {
   "cell_type": "code",
   "execution_count": 16,
   "id": "98703e45",
   "metadata": {},
   "outputs": [],
   "source": [
    "# Remove Duplicates\n",
    "df = df.drop_duplicates()"
   ]
  },
  {
   "cell_type": "code",
   "execution_count": 17,
   "id": "e7019f5a",
   "metadata": {},
   "outputs": [
    {
     "data": {
      "text/plain": [
       "0"
      ]
     },
     "execution_count": 17,
     "metadata": {},
     "output_type": "execute_result"
    }
   ],
   "source": [
    "df.duplicated().sum()"
   ]
  },
  {
   "cell_type": "code",
   "execution_count": 18,
   "id": "585911e8",
   "metadata": {},
   "outputs": [
    {
     "data": {
      "text/plain": [
       "age                 int64\n",
       "job                object\n",
       "marital            object\n",
       "education          object\n",
       "default            object\n",
       "housing            object\n",
       "loan               object\n",
       "contact            object\n",
       "month              object\n",
       "day_of_week        object\n",
       "duration            int64\n",
       "campaign            int64\n",
       "pdays               int64\n",
       "previous            int64\n",
       "poutcome           object\n",
       "emp.var.rate      float64\n",
       "cons.price.idx    float64\n",
       "cons.conf.idx     float64\n",
       "euribor3m         float64\n",
       "nr.employed       float64\n",
       "y                  object\n",
       "dtype: object"
      ]
     },
     "execution_count": 18,
     "metadata": {},
     "output_type": "execute_result"
    }
   ],
   "source": [
    "df.dtypes"
   ]
  },
  {
   "cell_type": "markdown",
   "id": "27c3f52a",
   "metadata": {},
   "source": [
    "Data types are correctly assigned"
   ]
  },
  {
   "cell_type": "code",
   "execution_count": 19,
   "id": "5a42501a",
   "metadata": {},
   "outputs": [
    {
     "data": {
      "text/plain": [
       "age               0\n",
       "job               0\n",
       "marital           0\n",
       "education         0\n",
       "default           0\n",
       "housing           0\n",
       "loan              0\n",
       "contact           0\n",
       "month             0\n",
       "day_of_week       0\n",
       "duration          0\n",
       "campaign          0\n",
       "pdays             0\n",
       "previous          0\n",
       "poutcome          0\n",
       "emp.var.rate      0\n",
       "cons.price.idx    0\n",
       "cons.conf.idx     0\n",
       "euribor3m         0\n",
       "nr.employed       0\n",
       "y                 0\n",
       "dtype: int64"
      ]
     },
     "execution_count": 19,
     "metadata": {},
     "output_type": "execute_result"
    }
   ],
   "source": [
    "df.isna().sum()"
   ]
  },
  {
   "cell_type": "markdown",
   "id": "21f71741",
   "metadata": {},
   "source": [
    "Now, as per above result,  we can see there is no any duplicate value nor null value."
   ]
  },
  {
   "cell_type": "markdown",
   "id": "352f5b39",
   "metadata": {},
   "source": [
    "## Categorical & Numerical variables"
   ]
  },
  {
   "cell_type": "markdown",
   "id": "7953fe25",
   "metadata": {},
   "source": [
    "### Variable Types"
   ]
  },
  {
   "cell_type": "markdown",
   "id": "f3fd98e5",
   "metadata": {},
   "source": [
    "#### Target Variable"
   ]
  },
  {
   "cell_type": "code",
   "execution_count": 20,
   "id": "7d3e8bf3",
   "metadata": {},
   "outputs": [
    {
     "data": {
      "text/plain": [
       "['y']"
      ]
     },
     "execution_count": 20,
     "metadata": {},
     "output_type": "execute_result"
    }
   ],
   "source": [
    "target_var = ['y']\n",
    "target = df[target_var]\n",
    "target_var"
   ]
  },
  {
   "cell_type": "code",
   "execution_count": 21,
   "id": "4caecf26",
   "metadata": {},
   "outputs": [
    {
     "data": {
      "text/plain": [
       "array(['no', 'yes'], dtype=object)"
      ]
     },
     "execution_count": 21,
     "metadata": {},
     "output_type": "execute_result"
    }
   ],
   "source": [
    "df[\"y\"].unique()"
   ]
  },
  {
   "cell_type": "markdown",
   "id": "2a61940d",
   "metadata": {},
   "source": [
    "#### Categorical Variables"
   ]
  },
  {
   "cell_type": "code",
   "execution_count": 22,
   "id": "9e9be65d",
   "metadata": {},
   "outputs": [
    {
     "data": {
      "text/plain": [
       "['job', 'marital', 'education', 'housing', 'loan', 'contact', 'poutcome']"
      ]
     },
     "execution_count": 22,
     "metadata": {},
     "output_type": "execute_result"
    }
   ],
   "source": [
    "categorical_var = [var for var in df.columns \n",
    "                   if df[var].dtype==\"O\" and \n",
    "                   var not in target_var and \n",
    "                   var not in [\"month\", \"day_of_week\", \"default\"]]\n",
    "categorical_var"
   ]
  },
  {
   "cell_type": "markdown",
   "id": "41bd28f7",
   "metadata": {},
   "source": [
    "#### Numeric Variables"
   ]
  },
  {
   "cell_type": "code",
   "execution_count": 23,
   "id": "4637a974",
   "metadata": {},
   "outputs": [
    {
     "data": {
      "text/plain": [
       "['age',\n",
       " 'default',\n",
       " 'duration',\n",
       " 'campaign',\n",
       " 'pdays',\n",
       " 'previous',\n",
       " 'emp.var.rate',\n",
       " 'cons.price.idx',\n",
       " 'cons.conf.idx',\n",
       " 'euribor3m',\n",
       " 'nr.employed']"
      ]
     },
     "execution_count": 23,
     "metadata": {},
     "output_type": "execute_result"
    }
   ],
   "source": [
    "numerical_var = [var for var in df.columns if var not in categorical_var + target_var and var not in [\"month\", \"day_of_week\"]]\n",
    "numerical_var"
   ]
  },
  {
   "cell_type": "markdown",
   "id": "0c058388",
   "metadata": {},
   "source": [
    "#### Temporal Variables "
   ]
  },
  {
   "cell_type": "code",
   "execution_count": 24,
   "id": "13d6901c",
   "metadata": {},
   "outputs": [
    {
     "data": {
      "text/plain": [
       "['month', 'day_of_week']"
      ]
     },
     "execution_count": 24,
     "metadata": {},
     "output_type": "execute_result"
    }
   ],
   "source": [
    "temporal_var = [var for var in df.columns if var ==\"month\" or var==\"day_of_week\"]\n",
    "temporal_var"
   ]
  },
  {
   "cell_type": "code",
   "execution_count": 25,
   "id": "45fc7f32",
   "metadata": {},
   "outputs": [
    {
     "name": "stdout",
     "output_type": "stream",
     "text": [
      "month ['may' 'jun' 'jul' 'aug' 'oct' 'nov' 'dec' 'mar' 'apr' 'sep']\n",
      "\n",
      "day_of_week ['mon' 'tue' 'wed' 'thu' 'fri']\n",
      "\n"
     ]
    }
   ],
   "source": [
    "# let's explore the values of these temporal variables\n",
    "\n",
    "for var in temporal_var:\n",
    "    print(var, df[var].unique())\n",
    "    print()"
   ]
  },
  {
   "cell_type": "markdown",
   "id": "a48fe3f4",
   "metadata": {},
   "source": [
    "#### Discreete Variable "
   ]
  },
  {
   "cell_type": "code",
   "execution_count": 26,
   "id": "fcc3fc30",
   "metadata": {},
   "outputs": [
    {
     "data": {
      "text/plain": [
       "['default',\n",
       " 'pdays',\n",
       " 'previous',\n",
       " 'emp.var.rate',\n",
       " 'cons.price.idx',\n",
       " 'cons.conf.idx',\n",
       " 'nr.employed']"
      ]
     },
     "execution_count": 26,
     "metadata": {},
     "output_type": "execute_result"
    }
   ],
   "source": [
    "discrete_var = [var for var in numerical_var if len(df[var].unique()) < 32 and var not in temporal_var]\n",
    "discrete_var"
   ]
  },
  {
   "cell_type": "code",
   "execution_count": 27,
   "id": "1bec8f8d",
   "metadata": {},
   "outputs": [
    {
     "name": "stdout",
     "output_type": "stream",
     "text": [
      "default ['no' 'unknown' 'yes']\n",
      "\n",
      "pdays [999   6   4   3   5   1   0  10   7   8   9  11   2  12  13  14  15  16\n",
      "  21  17  18  22  25  26  19  27  20]\n",
      "\n",
      "previous [0 1 2 3 4 5 6 7]\n",
      "\n",
      "emp.var.rate [ 1.1  1.4 -0.1 -0.2 -1.8 -2.9 -3.4 -3.  -1.7 -1.1]\n",
      "\n",
      "cons.price.idx [93.994 94.465 93.918 93.444 93.798 93.2   92.756 92.843 93.075 92.893\n",
      " 92.963 92.469 92.201 92.379 92.431 92.649 92.713 93.369 93.749 93.876\n",
      " 94.055 94.215 94.027 94.199 94.601 94.767]\n",
      "\n",
      "cons.conf.idx [-36.4 -41.8 -42.7 -36.1 -40.4 -42.  -45.9 -50.  -47.1 -46.2 -40.8 -33.6\n",
      " -31.4 -29.8 -26.9 -30.1 -33.  -34.8 -34.6 -40.  -39.8 -40.3 -38.3 -37.5\n",
      " -49.5 -50.8]\n",
      "\n",
      "nr.employed [5191.  5228.1 5195.8 5176.3 5099.1 5076.2 5017.5 5023.5 5008.7 4991.6\n",
      " 4963.6]\n",
      "\n"
     ]
    }
   ],
   "source": [
    "# let's explore the values of these discrete variables\n",
    "\n",
    "for var in discrete_var:\n",
    "    print(var, df[var].unique())\n",
    "    print()"
   ]
  },
  {
   "cell_type": "markdown",
   "id": "0d24af25",
   "metadata": {},
   "source": [
    "##### Continuous variables "
   ]
  },
  {
   "cell_type": "code",
   "execution_count": 28,
   "id": "0fb8814d",
   "metadata": {},
   "outputs": [
    {
     "data": {
      "text/plain": [
       "['age', 'duration', 'campaign', 'euribor3m']"
      ]
     },
     "execution_count": 28,
     "metadata": {},
     "output_type": "execute_result"
    }
   ],
   "source": [
    "# make list of continuous variables\n",
    "continuous_var = [\n",
    "    var for var in numerical_var if var not in discrete_var+temporal_var]\n",
    "continuous_var"
   ]
  },
  {
   "cell_type": "code",
   "execution_count": 29,
   "id": "bbedb36e",
   "metadata": {},
   "outputs": [
    {
     "name": "stdout",
     "output_type": "stream",
     "text": [
      "age [56 57 37 40 45 59 41 24 25 29 35 54 46 50 39 30 55 49 34 52 58 32 38 44\n",
      " 42 60 53 47 51 48 33 31 43 36 28 27 26 22 23 20 21 61 19 18 70 66 76 67\n",
      " 73 88 95 77 68 75 63 80 62 65 72 82 64 71 69 78 85 79 83 81 74 17 87 91\n",
      " 86 98 94 84 92 89]\n",
      "\n",
      "duration [ 261  149  226 ... 1246 1556 1868]\n",
      "\n",
      "campaign [ 1  2  3  4  5  6  7  8  9 10 11 12 13 19 18 23 14 22 25 16 17 15 20 56\n",
      " 39 35 42 28 26 27 32 21 24 29 31 30 41 37 40 33 34 43]\n",
      "\n",
      "euribor3m [4.857 4.856 4.855 4.859 4.86  4.858 4.864 4.865 4.866 4.967 4.961 4.959\n",
      " 4.958 4.96  4.962 4.955 4.947 4.956 4.966 4.963 4.957 4.968 4.97  4.965\n",
      " 4.964 5.045 5.    4.936 4.921 4.918 4.912 4.827 4.794 4.76  4.733 4.7\n",
      " 4.663 4.592 4.474 4.406 4.343 4.286 4.245 4.223 4.191 4.153 4.12  4.076\n",
      " 4.021 3.901 3.879 3.853 3.816 3.743 3.669 3.563 3.488 3.428 3.329 3.282\n",
      " 3.053 1.811 1.799 1.778 1.757 1.726 1.703 1.687 1.663 1.65  1.64  1.629\n",
      " 1.614 1.602 1.584 1.574 1.56  1.556 1.548 1.538 1.531 1.52  1.51  1.498\n",
      " 1.483 1.479 1.466 1.453 1.445 1.435 1.423 1.415 1.41  1.405 1.406 1.4\n",
      " 1.392 1.384 1.372 1.365 1.354 1.344 1.334 1.327 1.313 1.299 1.291 1.281\n",
      " 1.266 1.25  1.244 1.259 1.264 1.27  1.262 1.26  1.268 1.286 1.252 1.235\n",
      " 1.224 1.215 1.206 1.099 1.085 1.072 1.059 1.048 1.044 1.029 1.018 1.007\n",
      " 0.996 0.979 0.969 0.944 0.937 0.933 0.927 0.921 0.914 0.908 0.903 0.899\n",
      " 0.884 0.883 0.881 0.879 0.873 0.869 0.861 0.859 0.854 0.851 0.849 0.843\n",
      " 0.838 0.834 0.829 0.825 0.821 0.819 0.813 0.809 0.803 0.797 0.788 0.781\n",
      " 0.778 0.773 0.771 0.77  0.768 0.766 0.762 0.755 0.749 0.743 0.741 0.739\n",
      " 0.75  0.753 0.754 0.752 0.744 0.74  0.742 0.737 0.735 0.733 0.73  0.731\n",
      " 0.728 0.724 0.722 0.72  0.719 0.716 0.715 0.714 0.718 0.721 0.717 0.712\n",
      " 0.71  0.709 0.708 0.706 0.707 0.7   0.655 0.654 0.653 0.652 0.651 0.65\n",
      " 0.649 0.646 0.644 0.643 0.639 0.637 0.635 0.636 0.634 0.638 0.64  0.642\n",
      " 0.645 0.659 0.663 0.668 0.672 0.677 0.682 0.683 0.684 0.685 0.688 0.69\n",
      " 0.692 0.695 0.697 0.699 0.701 0.702 0.704 0.711 0.713 0.723 0.727 0.729\n",
      " 0.732 0.748 0.761 0.767 0.782 0.79  0.793 0.802 0.81  0.822 0.827 0.835\n",
      " 0.84  0.846 0.87  0.876 0.885 0.889 0.893 0.896 0.898 0.9   0.904 0.905\n",
      " 0.895 0.894 0.891 0.89  0.888 0.886 0.882 0.88  0.878 0.877 0.942 0.953\n",
      " 0.956 0.959 0.965 0.972 0.977 0.982 0.985 0.987 0.993 1.    1.008 1.016\n",
      " 1.025 1.032 1.037 1.043 1.045 1.047 1.05  1.049 1.046 1.041 1.04  1.039\n",
      " 1.035 1.03  1.031 1.028]\n",
      "\n"
     ]
    }
   ],
   "source": [
    "# let's explore the values of these temporal variables\n",
    "\n",
    "for var in continuous_var:\n",
    "    print(var, df[var].unique())\n",
    "    print()"
   ]
  },
  {
   "cell_type": "markdown",
   "id": "8d528948",
   "metadata": {},
   "source": [
    "## Model Preparation"
   ]
  },
  {
   "cell_type": "markdown",
   "id": "3b3a6b8a",
   "metadata": {},
   "source": [
    "NOTES:\n",
    "- Duration is a variable we can explore during EDA for business purposes to decide if we should try engaging the person for longer time on the call or not. The model should be built with and without the duration variable becuase Duration is obtained after the call is made to the potential client so if the target client has never received calls, this feature is not very useful. \n",
    "- No missing values or duplicate values. Data Types correctly assigned. So no need of change there.\n",
    "- There is a 999 value existing in pdays column meaning the customer has not been contacted before. We should change it to 0\n",
    "- Outliers need to be handled in the deposit column\n",
    "- Age column can be log transformed"
   ]
  },
  {
   "cell_type": "code",
   "execution_count": 30,
   "id": "df57ec90",
   "metadata": {},
   "outputs": [],
   "source": [
    "# dropping default column since very few values with \"yes\" so do not give model any predictive power\n",
    "df.drop(columns =['default'] ,axis =1 ,inplace = True)"
   ]
  },
  {
   "cell_type": "markdown",
   "id": "7a06962c",
   "metadata": {},
   "source": [
    "## Train-Test Split"
   ]
  },
  {
   "cell_type": "code",
   "execution_count": 31,
   "id": "1e09c6e2",
   "metadata": {},
   "outputs": [
    {
     "name": "stdout",
     "output_type": "stream",
     "text": [
      "X shape: (41176, 19)\n",
      "y shape: (41176,)\n"
     ]
    }
   ],
   "source": [
    "target = \"y\"\n",
    "X = df.drop(columns=target)\n",
    "y = df[target]\n",
    "\n",
    "print(\"X shape:\", X.shape)\n",
    "print(\"y shape:\", y.shape)"
   ]
  },
  {
   "cell_type": "code",
   "execution_count": 32,
   "id": "fc3862d3",
   "metadata": {},
   "outputs": [
    {
     "name": "stdout",
     "output_type": "stream",
     "text": [
      "X_train shape: (32940, 19)\n",
      "y_train shape: (32940,)\n",
      "X_test shape: (8236, 19)\n",
      "y_test shape: (8236,)\n"
     ]
    }
   ],
   "source": [
    "X_train, X_test, y_train, y_test = train_test_split(\n",
    "    X, y, test_size=0.2, random_state=42\n",
    ")\n",
    "\n",
    "print(\"X_train shape:\", X_train.shape)\n",
    "print(\"y_train shape:\", y_train.shape)\n",
    "print(\"X_test shape:\", X_test.shape)\n",
    "print(\"y_test shape:\", y_test.shape)"
   ]
  },
  {
   "cell_type": "markdown",
   "id": "36c4648b",
   "metadata": {},
   "source": [
    "# Feature Engineering"
   ]
  },
  {
   "cell_type": "markdown",
   "id": "4a82e6bc",
   "metadata": {},
   "source": [
    "### Missing Values"
   ]
  },
  {
   "cell_type": "code",
   "execution_count": 33,
   "id": "b0b1e981",
   "metadata": {},
   "outputs": [
    {
     "data": {
      "text/plain": [
       "age               0\n",
       "job               0\n",
       "marital           0\n",
       "education         0\n",
       "housing           0\n",
       "loan              0\n",
       "contact           0\n",
       "month             0\n",
       "day_of_week       0\n",
       "duration          0\n",
       "campaign          0\n",
       "pdays             0\n",
       "previous          0\n",
       "poutcome          0\n",
       "emp.var.rate      0\n",
       "cons.price.idx    0\n",
       "cons.conf.idx     0\n",
       "euribor3m         0\n",
       "nr.employed       0\n",
       "y                 0\n",
       "dtype: int64"
      ]
     },
     "execution_count": 33,
     "metadata": {},
     "output_type": "execute_result"
    }
   ],
   "source": [
    "df.isnull().sum()"
   ]
  },
  {
   "cell_type": "markdown",
   "id": "adf9ab3c",
   "metadata": {},
   "source": [
    "Fortunately, there are no missing values in the dataset. However, after exploring we find that 6 of the categorical variables have an \"unknown\" value. Those are the only missing values which do not necessarily need to be dealt with as the \"unknown\" category is already created for them. However, the categorical variables with a small proportion of \"unknown\" values (less than 10%) can be replaced with the most frequent value of the column while the ones with high proportion of missing values (more than 10%) can be left as a separate \"unknown\" category."
   ]
  },
  {
   "cell_type": "markdown",
   "id": "67cb0197",
   "metadata": {},
   "source": [
    "Since we removed the default column there are only 5 categorical variables with unknown values and none of them have more than 10% unknown value"
   ]
  },
  {
   "cell_type": "code",
   "execution_count": 34,
   "id": "132a5178",
   "metadata": {},
   "outputs": [
    {
     "data": {
      "text/plain": [
       "age               0.000000\n",
       "job               0.008349\n",
       "marital           0.001973\n",
       "education         0.042259\n",
       "housing           0.023953\n",
       "loan              0.023953\n",
       "contact           0.000000\n",
       "month             0.000000\n",
       "day_of_week       0.000000\n",
       "duration          0.000000\n",
       "campaign          0.000000\n",
       "pdays             0.000000\n",
       "previous          0.000000\n",
       "poutcome          0.000000\n",
       "emp.var.rate      0.000000\n",
       "cons.price.idx    0.000000\n",
       "cons.conf.idx     0.000000\n",
       "euribor3m         0.000000\n",
       "nr.employed       0.000000\n",
       "dtype: float64"
      ]
     },
     "execution_count": 34,
     "metadata": {},
     "output_type": "execute_result"
    }
   ],
   "source": [
    "# To handle the missing values, we first turn the 'unknown' observations to NaNs\n",
    "X_train = X_train.replace('unknown', np.nan)\n",
    "X_test = X_test.replace('unknown', np.nan)\n",
    "X_train.isnull().mean()"
   ]
  },
  {
   "cell_type": "code",
   "execution_count": 35,
   "id": "1e507682",
   "metadata": {},
   "outputs": [
    {
     "data": {
      "text/plain": [
       "education    0.042259\n",
       "housing      0.023953\n",
       "loan         0.023953\n",
       "job          0.008349\n",
       "marital      0.001973\n",
       "dtype: float64"
      ]
     },
     "execution_count": 35,
     "metadata": {},
     "output_type": "execute_result"
    }
   ],
   "source": [
    "# make a list of the categorical variables that contain missing values\n",
    "\n",
    "cat_vars_with_na = [\n",
    "    var for var in categorical_var\n",
    "    if X_train[var].isnull().sum() > 0\n",
    "]\n",
    "\n",
    "# print percentage of missing values per variable\n",
    "X_train[cat_vars_with_na ].isnull().mean().sort_values(ascending=False)"
   ]
  },
  {
   "cell_type": "code",
   "execution_count": 36,
   "id": "e04508e7",
   "metadata": {},
   "outputs": [
    {
     "data": {
      "text/plain": [
       "['job', 'marital', 'education', 'housing', 'loan']"
      ]
     },
     "execution_count": 36,
     "metadata": {},
     "output_type": "execute_result"
    }
   ],
   "source": [
    "cat_vars_with_na"
   ]
  },
  {
   "cell_type": "code",
   "execution_count": 37,
   "id": "cff0a1f6",
   "metadata": {},
   "outputs": [],
   "source": [
    "# # variables to impute with the string \"unknown\"\n",
    "# with_string_missing = [\n",
    "#     var for var in cat_vars_with_na if X_train[var].isnull().mean() > 0.05]\n",
    "\n",
    "# variables to impute with the most frequent category\n",
    "with_frequent_category = [\n",
    "    var for var in cat_vars_with_na if X_train[var].isnull().mean() < 0.05]"
   ]
  },
  {
   "cell_type": "code",
   "execution_count": 38,
   "id": "2bfeed26",
   "metadata": {},
   "outputs": [],
   "source": [
    "# # I print the values here, because it makes it easier for\n",
    "# # later when we need to add this values to a config file for \n",
    "# # deployment\n",
    "\n",
    "# with_string_missing"
   ]
  },
  {
   "cell_type": "code",
   "execution_count": 39,
   "id": "4e302513",
   "metadata": {},
   "outputs": [
    {
     "data": {
      "text/plain": [
       "['job', 'marital', 'education', 'housing', 'loan']"
      ]
     },
     "execution_count": 39,
     "metadata": {},
     "output_type": "execute_result"
    }
   ],
   "source": [
    "with_frequent_category"
   ]
  },
  {
   "cell_type": "code",
   "execution_count": 40,
   "id": "47bc7aaf",
   "metadata": {},
   "outputs": [
    {
     "data": {
      "text/plain": [
       "{'job': 'admin.',\n",
       " 'marital': 'married',\n",
       " 'education': 'university.degree',\n",
       " 'housing': 'yes',\n",
       " 'loan': 'no'}"
      ]
     },
     "execution_count": 40,
     "metadata": {},
     "output_type": "execute_result"
    }
   ],
   "source": [
    "# replace missing values with most frequent category\n",
    "\n",
    "# set up the class\n",
    "cat_imputer_frequent = CategoricalImputer(\n",
    "    imputation_method='frequent', variables=with_frequent_category)\n",
    "\n",
    "# fit the class to the train set\n",
    "cat_imputer_frequent.fit(X_train)\n",
    "\n",
    "# the class learns and stores the parameters\n",
    "cat_imputer_frequent.imputer_dict_"
   ]
  },
  {
   "cell_type": "code",
   "execution_count": 41,
   "id": "14076791",
   "metadata": {},
   "outputs": [],
   "source": [
    "# replace NA by missing\n",
    "X_train = cat_imputer_frequent.transform(X_train)\n",
    "X_test = cat_imputer_frequent.transform(X_test)"
   ]
  },
  {
   "cell_type": "code",
   "execution_count": 42,
   "id": "7dd76d30",
   "metadata": {},
   "outputs": [
    {
     "data": {
      "text/plain": [
       "job          0\n",
       "marital      0\n",
       "education    0\n",
       "housing      0\n",
       "loan         0\n",
       "dtype: int64"
      ]
     },
     "execution_count": 42,
     "metadata": {},
     "output_type": "execute_result"
    }
   ],
   "source": [
    "# check that we have no missing information in the engineered variables\n",
    "\n",
    "X_train[cat_vars_with_na].isnull().sum()"
   ]
  },
  {
   "cell_type": "code",
   "execution_count": 43,
   "id": "32272a19",
   "metadata": {},
   "outputs": [
    {
     "data": {
      "text/plain": [
       "[]"
      ]
     },
     "execution_count": 43,
     "metadata": {},
     "output_type": "execute_result"
    }
   ],
   "source": [
    "# check that test set does not contain null values in the engineered variables\n",
    "\n",
    "[var for var in cat_vars_with_na if X_test[var].isnull().sum() > 0]"
   ]
  },
  {
   "cell_type": "markdown",
   "id": "a24aa49d",
   "metadata": {},
   "source": [
    "## Numerical variable transformation\n",
    "\n",
    "### Logarithmic transformation\n",
    "\n",
    "In the previous notebook, we observed that the numerical variables are not normally distributed.\n",
    "\n",
    "We will transform with the logarightm the \"age\" variable in order to get a more Gaussian-like distribution."
   ]
  },
  {
   "cell_type": "code",
   "execution_count": 44,
   "id": "8e14296d",
   "metadata": {},
   "outputs": [],
   "source": [
    "log_transformer = LogTransformer(\n",
    "    variables=[\"age\"])\n",
    "\n",
    "X_train = log_transformer.fit_transform(X_train)\n",
    "X_test = log_transformer.transform(X_test)"
   ]
  },
  {
   "cell_type": "markdown",
   "id": "83344b8c",
   "metadata": {},
   "source": [
    "### Yeo-Johnson transformation\n",
    "\n",
    "We will apply the Yeo-Johnson transformation to duration to obtain gaussian like distribution."
   ]
  },
  {
   "cell_type": "code",
   "execution_count": 45,
   "id": "c7d1572a",
   "metadata": {},
   "outputs": [
    {
     "data": {
      "text/plain": [
       "{'duration': 0.12584775527989434}"
      ]
     },
     "execution_count": 45,
     "metadata": {},
     "output_type": "execute_result"
    }
   ],
   "source": [
    "yeo_transformer = YeoJohnsonTransformer(\n",
    "    variables=['duration'])\n",
    "\n",
    "X_train = yeo_transformer.fit_transform(X_train)\n",
    "X_test = yeo_transformer.transform(X_test)\n",
    "\n",
    "# the learned parameter\n",
    "yeo_transformer.lambda_dict_"
   ]
  },
  {
   "cell_type": "code",
   "execution_count": 46,
   "id": "2af7645a",
   "metadata": {},
   "outputs": [
    {
     "data": {
      "text/html": [
       "<div>\n",
       "<style scoped>\n",
       "    .dataframe tbody tr th:only-of-type {\n",
       "        vertical-align: middle;\n",
       "    }\n",
       "\n",
       "    .dataframe tbody tr th {\n",
       "        vertical-align: top;\n",
       "    }\n",
       "\n",
       "    .dataframe thead th {\n",
       "        text-align: right;\n",
       "    }\n",
       "</style>\n",
       "<table border=\"1\" class=\"dataframe\">\n",
       "  <thead>\n",
       "    <tr style=\"text-align: right;\">\n",
       "      <th></th>\n",
       "      <th>age</th>\n",
       "      <th>job</th>\n",
       "      <th>marital</th>\n",
       "      <th>education</th>\n",
       "      <th>housing</th>\n",
       "      <th>loan</th>\n",
       "      <th>contact</th>\n",
       "      <th>month</th>\n",
       "      <th>day_of_week</th>\n",
       "      <th>duration</th>\n",
       "      <th>campaign</th>\n",
       "      <th>pdays</th>\n",
       "      <th>previous</th>\n",
       "      <th>poutcome</th>\n",
       "      <th>emp.var.rate</th>\n",
       "      <th>cons.price.idx</th>\n",
       "      <th>cons.conf.idx</th>\n",
       "      <th>euribor3m</th>\n",
       "      <th>nr.employed</th>\n",
       "    </tr>\n",
       "  </thead>\n",
       "  <tbody>\n",
       "    <tr>\n",
       "      <th>12348</th>\n",
       "      <td>3.367296</td>\n",
       "      <td>entrepreneur</td>\n",
       "      <td>married</td>\n",
       "      <td>basic.6y</td>\n",
       "      <td>yes</td>\n",
       "      <td>yes</td>\n",
       "      <td>telephone</td>\n",
       "      <td>jul</td>\n",
       "      <td>fri</td>\n",
       "      <td>8.252340</td>\n",
       "      <td>3</td>\n",
       "      <td>999</td>\n",
       "      <td>0</td>\n",
       "      <td>nonexistent</td>\n",
       "      <td>1.4</td>\n",
       "      <td>93.918</td>\n",
       "      <td>-42.7</td>\n",
       "      <td>4.959</td>\n",
       "      <td>5228.1</td>\n",
       "    </tr>\n",
       "    <tr>\n",
       "      <th>8565</th>\n",
       "      <td>3.912023</td>\n",
       "      <td>admin.</td>\n",
       "      <td>single</td>\n",
       "      <td>university.degree</td>\n",
       "      <td>no</td>\n",
       "      <td>no</td>\n",
       "      <td>telephone</td>\n",
       "      <td>jun</td>\n",
       "      <td>wed</td>\n",
       "      <td>7.317985</td>\n",
       "      <td>6</td>\n",
       "      <td>999</td>\n",
       "      <td>0</td>\n",
       "      <td>nonexistent</td>\n",
       "      <td>1.4</td>\n",
       "      <td>94.465</td>\n",
       "      <td>-41.8</td>\n",
       "      <td>4.864</td>\n",
       "      <td>5228.1</td>\n",
       "    </tr>\n",
       "    <tr>\n",
       "      <th>21424</th>\n",
       "      <td>3.367296</td>\n",
       "      <td>admin.</td>\n",
       "      <td>single</td>\n",
       "      <td>university.degree</td>\n",
       "      <td>no</td>\n",
       "      <td>no</td>\n",
       "      <td>cellular</td>\n",
       "      <td>aug</td>\n",
       "      <td>tue</td>\n",
       "      <td>6.309758</td>\n",
       "      <td>4</td>\n",
       "      <td>999</td>\n",
       "      <td>0</td>\n",
       "      <td>nonexistent</td>\n",
       "      <td>1.4</td>\n",
       "      <td>93.444</td>\n",
       "      <td>-36.1</td>\n",
       "      <td>4.963</td>\n",
       "      <td>5228.1</td>\n",
       "    </tr>\n",
       "    <tr>\n",
       "      <th>3316</th>\n",
       "      <td>3.555348</td>\n",
       "      <td>admin.</td>\n",
       "      <td>single</td>\n",
       "      <td>university.degree</td>\n",
       "      <td>no</td>\n",
       "      <td>no</td>\n",
       "      <td>telephone</td>\n",
       "      <td>may</td>\n",
       "      <td>thu</td>\n",
       "      <td>6.799259</td>\n",
       "      <td>1</td>\n",
       "      <td>999</td>\n",
       "      <td>0</td>\n",
       "      <td>nonexistent</td>\n",
       "      <td>1.1</td>\n",
       "      <td>93.994</td>\n",
       "      <td>-36.4</td>\n",
       "      <td>4.860</td>\n",
       "      <td>5191.0</td>\n",
       "    </tr>\n",
       "    <tr>\n",
       "      <th>33246</th>\n",
       "      <td>3.688879</td>\n",
       "      <td>blue-collar</td>\n",
       "      <td>single</td>\n",
       "      <td>high.school</td>\n",
       "      <td>no</td>\n",
       "      <td>no</td>\n",
       "      <td>cellular</td>\n",
       "      <td>may</td>\n",
       "      <td>tue</td>\n",
       "      <td>9.042361</td>\n",
       "      <td>1</td>\n",
       "      <td>999</td>\n",
       "      <td>0</td>\n",
       "      <td>nonexistent</td>\n",
       "      <td>-1.8</td>\n",
       "      <td>92.893</td>\n",
       "      <td>-46.2</td>\n",
       "      <td>1.291</td>\n",
       "      <td>5099.1</td>\n",
       "    </tr>\n",
       "  </tbody>\n",
       "</table>\n",
       "</div>"
      ],
      "text/plain": [
       "            age           job  marital          education housing loan  \\\n",
       "12348  3.367296  entrepreneur  married           basic.6y     yes  yes   \n",
       "8565   3.912023        admin.   single  university.degree      no   no   \n",
       "21424  3.367296        admin.   single  university.degree      no   no   \n",
       "3316   3.555348        admin.   single  university.degree      no   no   \n",
       "33246  3.688879   blue-collar   single        high.school      no   no   \n",
       "\n",
       "         contact month day_of_week  duration  campaign  pdays  previous  \\\n",
       "12348  telephone   jul         fri  8.252340         3    999         0   \n",
       "8565   telephone   jun         wed  7.317985         6    999         0   \n",
       "21424   cellular   aug         tue  6.309758         4    999         0   \n",
       "3316   telephone   may         thu  6.799259         1    999         0   \n",
       "33246   cellular   may         tue  9.042361         1    999         0   \n",
       "\n",
       "          poutcome  emp.var.rate  cons.price.idx  cons.conf.idx  euribor3m  \\\n",
       "12348  nonexistent           1.4          93.918          -42.7      4.959   \n",
       "8565   nonexistent           1.4          94.465          -41.8      4.864   \n",
       "21424  nonexistent           1.4          93.444          -36.1      4.963   \n",
       "3316   nonexistent           1.1          93.994          -36.4      4.860   \n",
       "33246  nonexistent          -1.8          92.893          -46.2      1.291   \n",
       "\n",
       "       nr.employed  \n",
       "12348       5228.1  \n",
       "8565        5228.1  \n",
       "21424       5228.1  \n",
       "3316        5191.0  \n",
       "33246       5099.1  "
      ]
     },
     "execution_count": 46,
     "metadata": {},
     "output_type": "execute_result"
    }
   ],
   "source": [
    "X_train.head()"
   ]
  },
  {
   "cell_type": "markdown",
   "id": "66f8af0c",
   "metadata": {},
   "source": [
    "## Categorical feature encoding"
   ]
  },
  {
   "cell_type": "markdown",
   "id": "eecf52fa",
   "metadata": {},
   "source": [
    "### Replace Binary Features with 1 and 0"
   ]
  },
  {
   "cell_type": "code",
   "execution_count": 47,
   "id": "2d4e7eb1",
   "metadata": {},
   "outputs": [],
   "source": [
    "binary_features = ['housing', 'loan']"
   ]
  },
  {
   "cell_type": "code",
   "execution_count": 48,
   "id": "3e5b9b59",
   "metadata": {},
   "outputs": [],
   "source": [
    "for col in binary_features:\n",
    "    X_train[col] = X_train[col].replace([\"yes\"], 1)\n",
    "    X_train[col] = X_train[col].replace([\"no\"], 0)\n",
    "    X_test[col] = X_test[col].replace([\"yes\"], 1)\n",
    "    X_test[col] = X_test[col].replace([\"no\"], 0)"
   ]
  },
  {
   "cell_type": "code",
   "execution_count": 49,
   "id": "379e0fcd",
   "metadata": {},
   "outputs": [
    {
     "data": {
      "text/html": [
       "<div>\n",
       "<style scoped>\n",
       "    .dataframe tbody tr th:only-of-type {\n",
       "        vertical-align: middle;\n",
       "    }\n",
       "\n",
       "    .dataframe tbody tr th {\n",
       "        vertical-align: top;\n",
       "    }\n",
       "\n",
       "    .dataframe thead th {\n",
       "        text-align: right;\n",
       "    }\n",
       "</style>\n",
       "<table border=\"1\" class=\"dataframe\">\n",
       "  <thead>\n",
       "    <tr style=\"text-align: right;\">\n",
       "      <th></th>\n",
       "      <th>age</th>\n",
       "      <th>job</th>\n",
       "      <th>marital</th>\n",
       "      <th>education</th>\n",
       "      <th>housing</th>\n",
       "      <th>loan</th>\n",
       "      <th>contact</th>\n",
       "      <th>month</th>\n",
       "      <th>day_of_week</th>\n",
       "      <th>duration</th>\n",
       "      <th>campaign</th>\n",
       "      <th>pdays</th>\n",
       "      <th>previous</th>\n",
       "      <th>poutcome</th>\n",
       "      <th>emp.var.rate</th>\n",
       "      <th>cons.price.idx</th>\n",
       "      <th>cons.conf.idx</th>\n",
       "      <th>euribor3m</th>\n",
       "      <th>nr.employed</th>\n",
       "    </tr>\n",
       "  </thead>\n",
       "  <tbody>\n",
       "    <tr>\n",
       "      <th>12348</th>\n",
       "      <td>3.367296</td>\n",
       "      <td>entrepreneur</td>\n",
       "      <td>married</td>\n",
       "      <td>4.0</td>\n",
       "      <td>1</td>\n",
       "      <td>1</td>\n",
       "      <td>telephone</td>\n",
       "      <td>jul</td>\n",
       "      <td>fri</td>\n",
       "      <td>8.252340</td>\n",
       "      <td>3</td>\n",
       "      <td>999</td>\n",
       "      <td>0</td>\n",
       "      <td>nonexistent</td>\n",
       "      <td>1.4</td>\n",
       "      <td>93.918</td>\n",
       "      <td>-42.7</td>\n",
       "      <td>4.959</td>\n",
       "      <td>5228.1</td>\n",
       "    </tr>\n",
       "    <tr>\n",
       "      <th>8565</th>\n",
       "      <td>3.912023</td>\n",
       "      <td>admin.</td>\n",
       "      <td>single</td>\n",
       "      <td>1.0</td>\n",
       "      <td>0</td>\n",
       "      <td>0</td>\n",
       "      <td>telephone</td>\n",
       "      <td>jun</td>\n",
       "      <td>wed</td>\n",
       "      <td>7.317985</td>\n",
       "      <td>6</td>\n",
       "      <td>999</td>\n",
       "      <td>0</td>\n",
       "      <td>nonexistent</td>\n",
       "      <td>1.4</td>\n",
       "      <td>94.465</td>\n",
       "      <td>-41.8</td>\n",
       "      <td>4.864</td>\n",
       "      <td>5228.1</td>\n",
       "    </tr>\n",
       "    <tr>\n",
       "      <th>21424</th>\n",
       "      <td>3.367296</td>\n",
       "      <td>admin.</td>\n",
       "      <td>single</td>\n",
       "      <td>1.0</td>\n",
       "      <td>0</td>\n",
       "      <td>0</td>\n",
       "      <td>cellular</td>\n",
       "      <td>aug</td>\n",
       "      <td>tue</td>\n",
       "      <td>6.309758</td>\n",
       "      <td>4</td>\n",
       "      <td>999</td>\n",
       "      <td>0</td>\n",
       "      <td>nonexistent</td>\n",
       "      <td>1.4</td>\n",
       "      <td>93.444</td>\n",
       "      <td>-36.1</td>\n",
       "      <td>4.963</td>\n",
       "      <td>5228.1</td>\n",
       "    </tr>\n",
       "    <tr>\n",
       "      <th>3316</th>\n",
       "      <td>3.555348</td>\n",
       "      <td>admin.</td>\n",
       "      <td>single</td>\n",
       "      <td>1.0</td>\n",
       "      <td>0</td>\n",
       "      <td>0</td>\n",
       "      <td>telephone</td>\n",
       "      <td>may</td>\n",
       "      <td>thu</td>\n",
       "      <td>6.799259</td>\n",
       "      <td>1</td>\n",
       "      <td>999</td>\n",
       "      <td>0</td>\n",
       "      <td>nonexistent</td>\n",
       "      <td>1.1</td>\n",
       "      <td>93.994</td>\n",
       "      <td>-36.4</td>\n",
       "      <td>4.860</td>\n",
       "      <td>5191.0</td>\n",
       "    </tr>\n",
       "    <tr>\n",
       "      <th>33246</th>\n",
       "      <td>3.688879</td>\n",
       "      <td>blue-collar</td>\n",
       "      <td>single</td>\n",
       "      <td>6.0</td>\n",
       "      <td>0</td>\n",
       "      <td>0</td>\n",
       "      <td>cellular</td>\n",
       "      <td>may</td>\n",
       "      <td>tue</td>\n",
       "      <td>9.042361</td>\n",
       "      <td>1</td>\n",
       "      <td>999</td>\n",
       "      <td>0</td>\n",
       "      <td>nonexistent</td>\n",
       "      <td>-1.8</td>\n",
       "      <td>92.893</td>\n",
       "      <td>-46.2</td>\n",
       "      <td>1.291</td>\n",
       "      <td>5099.1</td>\n",
       "    </tr>\n",
       "  </tbody>\n",
       "</table>\n",
       "</div>"
      ],
      "text/plain": [
       "            age           job  marital  education  housing  loan    contact  \\\n",
       "12348  3.367296  entrepreneur  married        4.0        1     1  telephone   \n",
       "8565   3.912023        admin.   single        1.0        0     0  telephone   \n",
       "21424  3.367296        admin.   single        1.0        0     0   cellular   \n",
       "3316   3.555348        admin.   single        1.0        0     0  telephone   \n",
       "33246  3.688879   blue-collar   single        6.0        0     0   cellular   \n",
       "\n",
       "      month day_of_week  duration  campaign  pdays  previous     poutcome  \\\n",
       "12348   jul         fri  8.252340         3    999         0  nonexistent   \n",
       "8565    jun         wed  7.317985         6    999         0  nonexistent   \n",
       "21424   aug         tue  6.309758         4    999         0  nonexistent   \n",
       "3316    may         thu  6.799259         1    999         0  nonexistent   \n",
       "33246   may         tue  9.042361         1    999         0  nonexistent   \n",
       "\n",
       "       emp.var.rate  cons.price.idx  cons.conf.idx  euribor3m  nr.employed  \n",
       "12348           1.4          93.918          -42.7      4.959       5228.1  \n",
       "8565            1.4          94.465          -41.8      4.864       5228.1  \n",
       "21424           1.4          93.444          -36.1      4.963       5228.1  \n",
       "3316            1.1          93.994          -36.4      4.860       5191.0  \n",
       "33246          -1.8          92.893          -46.2      1.291       5099.1  "
      ]
     },
     "execution_count": 49,
     "metadata": {},
     "output_type": "execute_result"
    }
   ],
   "source": [
    "from sklearn.preprocessing import OrdinalEncoder\n",
    "ord_enc = OrdinalEncoder(categories = [['basic.9y', 'university.degree', \n",
    "                                        'illiterate', 'basic.4y', 'basic.6y', \n",
    "                                        'professional.course', 'high.school']])\n",
    "X_train.education = ord_enc.fit_transform(X_train.loc[:, [\"education\"]])\n",
    "X_test.education = ord_enc.transform(X_test.loc[:, [\"education\"]])\n",
    "X_train.head()"
   ]
  },
  {
   "cell_type": "code",
   "execution_count": 50,
   "id": "320b133d",
   "metadata": {},
   "outputs": [
    {
     "data": {
      "text/plain": [
       "12348    no\n",
       "8565     no\n",
       "21424    no\n",
       "3316     no\n",
       "33246    no\n",
       "         ..\n",
       "6266     no\n",
       "11285    no\n",
       "38169    no\n",
       "860      no\n",
       "15798    no\n",
       "Name: y, Length: 32940, dtype: object"
      ]
     },
     "execution_count": 50,
     "metadata": {},
     "output_type": "execute_result"
    }
   ],
   "source": [
    "y_train"
   ]
  },
  {
   "cell_type": "code",
   "execution_count": 51,
   "id": "8f85b332",
   "metadata": {
    "scrolled": true
   },
   "outputs": [
    {
     "data": {
      "text/html": [
       "<div>\n",
       "<style scoped>\n",
       "    .dataframe tbody tr th:only-of-type {\n",
       "        vertical-align: middle;\n",
       "    }\n",
       "\n",
       "    .dataframe tbody tr th {\n",
       "        vertical-align: top;\n",
       "    }\n",
       "\n",
       "    .dataframe thead th {\n",
       "        text-align: right;\n",
       "    }\n",
       "</style>\n",
       "<table border=\"1\" class=\"dataframe\">\n",
       "  <thead>\n",
       "    <tr style=\"text-align: right;\">\n",
       "      <th></th>\n",
       "      <th>age</th>\n",
       "      <th>job</th>\n",
       "      <th>marital</th>\n",
       "      <th>education</th>\n",
       "      <th>housing</th>\n",
       "      <th>loan</th>\n",
       "      <th>contact</th>\n",
       "      <th>month</th>\n",
       "      <th>day_of_week</th>\n",
       "      <th>duration</th>\n",
       "      <th>campaign</th>\n",
       "      <th>pdays</th>\n",
       "      <th>previous</th>\n",
       "      <th>poutcome</th>\n",
       "      <th>emp.var.rate</th>\n",
       "      <th>cons.price.idx</th>\n",
       "      <th>cons.conf.idx</th>\n",
       "      <th>euribor3m</th>\n",
       "      <th>nr.employed</th>\n",
       "    </tr>\n",
       "  </thead>\n",
       "  <tbody>\n",
       "    <tr>\n",
       "      <th>36264</th>\n",
       "      <td>4.077537</td>\n",
       "      <td>retired</td>\n",
       "      <td>married</td>\n",
       "      <td>5.0</td>\n",
       "      <td>1</td>\n",
       "      <td>1</td>\n",
       "      <td>cellular</td>\n",
       "      <td>jun</td>\n",
       "      <td>mon</td>\n",
       "      <td>11.933995</td>\n",
       "      <td>1</td>\n",
       "      <td>999</td>\n",
       "      <td>0</td>\n",
       "      <td>nonexistent</td>\n",
       "      <td>-2.9</td>\n",
       "      <td>92.963</td>\n",
       "      <td>-40.8</td>\n",
       "      <td>1.266</td>\n",
       "      <td>5076.2</td>\n",
       "    </tr>\n",
       "    <tr>\n",
       "      <th>32672</th>\n",
       "      <td>3.526361</td>\n",
       "      <td>blue-collar</td>\n",
       "      <td>married</td>\n",
       "      <td>0.0</td>\n",
       "      <td>0</td>\n",
       "      <td>0</td>\n",
       "      <td>cellular</td>\n",
       "      <td>may</td>\n",
       "      <td>mon</td>\n",
       "      <td>7.965380</td>\n",
       "      <td>1</td>\n",
       "      <td>999</td>\n",
       "      <td>1</td>\n",
       "      <td>failure</td>\n",
       "      <td>-1.8</td>\n",
       "      <td>92.893</td>\n",
       "      <td>-46.2</td>\n",
       "      <td>1.299</td>\n",
       "      <td>5099.1</td>\n",
       "    </tr>\n",
       "    <tr>\n",
       "      <th>40872</th>\n",
       "      <td>3.465736</td>\n",
       "      <td>technician</td>\n",
       "      <td>married</td>\n",
       "      <td>5.0</td>\n",
       "      <td>1</td>\n",
       "      <td>0</td>\n",
       "      <td>cellular</td>\n",
       "      <td>oct</td>\n",
       "      <td>wed</td>\n",
       "      <td>8.172867</td>\n",
       "      <td>2</td>\n",
       "      <td>999</td>\n",
       "      <td>0</td>\n",
       "      <td>nonexistent</td>\n",
       "      <td>-1.1</td>\n",
       "      <td>94.601</td>\n",
       "      <td>-49.5</td>\n",
       "      <td>0.959</td>\n",
       "      <td>4963.6</td>\n",
       "    </tr>\n",
       "    <tr>\n",
       "      <th>32907</th>\n",
       "      <td>3.970292</td>\n",
       "      <td>admin.</td>\n",
       "      <td>married</td>\n",
       "      <td>6.0</td>\n",
       "      <td>1</td>\n",
       "      <td>1</td>\n",
       "      <td>cellular</td>\n",
       "      <td>may</td>\n",
       "      <td>mon</td>\n",
       "      <td>7.402205</td>\n",
       "      <td>2</td>\n",
       "      <td>999</td>\n",
       "      <td>1</td>\n",
       "      <td>failure</td>\n",
       "      <td>-1.8</td>\n",
       "      <td>92.893</td>\n",
       "      <td>-46.2</td>\n",
       "      <td>1.299</td>\n",
       "      <td>5099.1</td>\n",
       "    </tr>\n",
       "    <tr>\n",
       "      <th>16464</th>\n",
       "      <td>3.178054</td>\n",
       "      <td>services</td>\n",
       "      <td>single</td>\n",
       "      <td>0.0</td>\n",
       "      <td>1</td>\n",
       "      <td>0</td>\n",
       "      <td>telephone</td>\n",
       "      <td>jul</td>\n",
       "      <td>wed</td>\n",
       "      <td>7.381450</td>\n",
       "      <td>1</td>\n",
       "      <td>999</td>\n",
       "      <td>0</td>\n",
       "      <td>nonexistent</td>\n",
       "      <td>1.4</td>\n",
       "      <td>93.918</td>\n",
       "      <td>-42.7</td>\n",
       "      <td>4.963</td>\n",
       "      <td>5228.1</td>\n",
       "    </tr>\n",
       "  </tbody>\n",
       "</table>\n",
       "</div>"
      ],
      "text/plain": [
       "            age          job  marital  education  housing  loan    contact  \\\n",
       "36264  4.077537      retired  married        5.0        1     1   cellular   \n",
       "32672  3.526361  blue-collar  married        0.0        0     0   cellular   \n",
       "40872  3.465736   technician  married        5.0        1     0   cellular   \n",
       "32907  3.970292       admin.  married        6.0        1     1   cellular   \n",
       "16464  3.178054     services   single        0.0        1     0  telephone   \n",
       "\n",
       "      month day_of_week   duration  campaign  pdays  previous     poutcome  \\\n",
       "36264   jun         mon  11.933995         1    999         0  nonexistent   \n",
       "32672   may         mon   7.965380         1    999         1      failure   \n",
       "40872   oct         wed   8.172867         2    999         0  nonexistent   \n",
       "32907   may         mon   7.402205         2    999         1      failure   \n",
       "16464   jul         wed   7.381450         1    999         0  nonexistent   \n",
       "\n",
       "       emp.var.rate  cons.price.idx  cons.conf.idx  euribor3m  nr.employed  \n",
       "36264          -2.9          92.963          -40.8      1.266       5076.2  \n",
       "32672          -1.8          92.893          -46.2      1.299       5099.1  \n",
       "40872          -1.1          94.601          -49.5      0.959       4963.6  \n",
       "32907          -1.8          92.893          -46.2      1.299       5099.1  \n",
       "16464           1.4          93.918          -42.7      4.963       5228.1  "
      ]
     },
     "execution_count": 51,
     "metadata": {},
     "output_type": "execute_result"
    }
   ],
   "source": [
    "X_test.head()"
   ]
  },
  {
   "cell_type": "code",
   "execution_count": 52,
   "id": "86bc80ee",
   "metadata": {},
   "outputs": [],
   "source": [
    "le=LabelEncoder()\n",
    "y_train = y_train.to_frame()\n",
    "y_test = y_test.to_frame()\n",
    "y_train[\"y\"]=le.fit_transform(y_train[\"y\"])\n",
    "y_test[\"y\"] = le.transform(y_test[\"y\"])"
   ]
  },
  {
   "cell_type": "code",
   "execution_count": 53,
   "id": "1b906112",
   "metadata": {},
   "outputs": [],
   "source": [
    "cols_to_encode_Xtrain = X_train.select_dtypes(include=\"object\")"
   ]
  },
  {
   "cell_type": "code",
   "execution_count": 54,
   "id": "a2144db2",
   "metadata": {},
   "outputs": [],
   "source": [
    "cols_to_encode_Xtest = X_test.select_dtypes(include=\"object\")"
   ]
  },
  {
   "cell_type": "code",
   "execution_count": 55,
   "id": "e07ddea5",
   "metadata": {},
   "outputs": [],
   "source": [
    "#select the variables to encode first\n",
    "\n",
    "for col in cols_to_encode_Xtrain:\n",
    "  X_train = pd.concat([X_train, pd.get_dummies(X_train[col], prefix=\"%s\"%col)], axis=1)\n",
    "  X_train.drop([col], axis=1, inplace=True)\n",
    "\n",
    "for col in cols_to_encode_Xtest:\n",
    "  X_test = pd.concat([X_test, pd.get_dummies(X_test[col], prefix=\"%s\"%col)], axis=1)\n",
    "  X_test.drop([col], axis=1, inplace=True)"
   ]
  },
  {
   "cell_type": "markdown",
   "id": "8241f11f",
   "metadata": {},
   "source": [
    "### Resample"
   ]
  },
  {
   "cell_type": "code",
   "execution_count": 56,
   "id": "80dee5fd",
   "metadata": {},
   "outputs": [
    {
     "name": "stdout",
     "output_type": "stream",
     "text": [
      "X_train_over shape: (58544, 47)\n"
     ]
    },
    {
     "data": {
      "text/html": [
       "<div>\n",
       "<style scoped>\n",
       "    .dataframe tbody tr th:only-of-type {\n",
       "        vertical-align: middle;\n",
       "    }\n",
       "\n",
       "    .dataframe tbody tr th {\n",
       "        vertical-align: top;\n",
       "    }\n",
       "\n",
       "    .dataframe thead th {\n",
       "        text-align: right;\n",
       "    }\n",
       "</style>\n",
       "<table border=\"1\" class=\"dataframe\">\n",
       "  <thead>\n",
       "    <tr style=\"text-align: right;\">\n",
       "      <th></th>\n",
       "      <th>age</th>\n",
       "      <th>education</th>\n",
       "      <th>housing</th>\n",
       "      <th>loan</th>\n",
       "      <th>duration</th>\n",
       "      <th>campaign</th>\n",
       "      <th>pdays</th>\n",
       "      <th>previous</th>\n",
       "      <th>emp.var.rate</th>\n",
       "      <th>cons.price.idx</th>\n",
       "      <th>...</th>\n",
       "      <th>month_oct</th>\n",
       "      <th>month_sep</th>\n",
       "      <th>day_of_week_fri</th>\n",
       "      <th>day_of_week_mon</th>\n",
       "      <th>day_of_week_thu</th>\n",
       "      <th>day_of_week_tue</th>\n",
       "      <th>day_of_week_wed</th>\n",
       "      <th>poutcome_failure</th>\n",
       "      <th>poutcome_nonexistent</th>\n",
       "      <th>poutcome_success</th>\n",
       "    </tr>\n",
       "  </thead>\n",
       "  <tbody>\n",
       "    <tr>\n",
       "      <th>0</th>\n",
       "      <td>3.367296</td>\n",
       "      <td>4.0</td>\n",
       "      <td>1</td>\n",
       "      <td>1</td>\n",
       "      <td>8.252340</td>\n",
       "      <td>3</td>\n",
       "      <td>999</td>\n",
       "      <td>0</td>\n",
       "      <td>1.4</td>\n",
       "      <td>93.918</td>\n",
       "      <td>...</td>\n",
       "      <td>0</td>\n",
       "      <td>0</td>\n",
       "      <td>1</td>\n",
       "      <td>0</td>\n",
       "      <td>0</td>\n",
       "      <td>0</td>\n",
       "      <td>0</td>\n",
       "      <td>0</td>\n",
       "      <td>1</td>\n",
       "      <td>0</td>\n",
       "    </tr>\n",
       "    <tr>\n",
       "      <th>1</th>\n",
       "      <td>3.912023</td>\n",
       "      <td>1.0</td>\n",
       "      <td>0</td>\n",
       "      <td>0</td>\n",
       "      <td>7.317985</td>\n",
       "      <td>6</td>\n",
       "      <td>999</td>\n",
       "      <td>0</td>\n",
       "      <td>1.4</td>\n",
       "      <td>94.465</td>\n",
       "      <td>...</td>\n",
       "      <td>0</td>\n",
       "      <td>0</td>\n",
       "      <td>0</td>\n",
       "      <td>0</td>\n",
       "      <td>0</td>\n",
       "      <td>0</td>\n",
       "      <td>1</td>\n",
       "      <td>0</td>\n",
       "      <td>1</td>\n",
       "      <td>0</td>\n",
       "    </tr>\n",
       "    <tr>\n",
       "      <th>2</th>\n",
       "      <td>3.367296</td>\n",
       "      <td>1.0</td>\n",
       "      <td>0</td>\n",
       "      <td>0</td>\n",
       "      <td>6.309758</td>\n",
       "      <td>4</td>\n",
       "      <td>999</td>\n",
       "      <td>0</td>\n",
       "      <td>1.4</td>\n",
       "      <td>93.444</td>\n",
       "      <td>...</td>\n",
       "      <td>0</td>\n",
       "      <td>0</td>\n",
       "      <td>0</td>\n",
       "      <td>0</td>\n",
       "      <td>0</td>\n",
       "      <td>1</td>\n",
       "      <td>0</td>\n",
       "      <td>0</td>\n",
       "      <td>1</td>\n",
       "      <td>0</td>\n",
       "    </tr>\n",
       "    <tr>\n",
       "      <th>3</th>\n",
       "      <td>3.555348</td>\n",
       "      <td>1.0</td>\n",
       "      <td>0</td>\n",
       "      <td>0</td>\n",
       "      <td>6.799259</td>\n",
       "      <td>1</td>\n",
       "      <td>999</td>\n",
       "      <td>0</td>\n",
       "      <td>1.1</td>\n",
       "      <td>93.994</td>\n",
       "      <td>...</td>\n",
       "      <td>0</td>\n",
       "      <td>0</td>\n",
       "      <td>0</td>\n",
       "      <td>0</td>\n",
       "      <td>1</td>\n",
       "      <td>0</td>\n",
       "      <td>0</td>\n",
       "      <td>0</td>\n",
       "      <td>1</td>\n",
       "      <td>0</td>\n",
       "    </tr>\n",
       "    <tr>\n",
       "      <th>4</th>\n",
       "      <td>3.688879</td>\n",
       "      <td>6.0</td>\n",
       "      <td>0</td>\n",
       "      <td>0</td>\n",
       "      <td>9.042361</td>\n",
       "      <td>1</td>\n",
       "      <td>999</td>\n",
       "      <td>0</td>\n",
       "      <td>-1.8</td>\n",
       "      <td>92.893</td>\n",
       "      <td>...</td>\n",
       "      <td>0</td>\n",
       "      <td>0</td>\n",
       "      <td>0</td>\n",
       "      <td>0</td>\n",
       "      <td>0</td>\n",
       "      <td>1</td>\n",
       "      <td>0</td>\n",
       "      <td>0</td>\n",
       "      <td>1</td>\n",
       "      <td>0</td>\n",
       "    </tr>\n",
       "  </tbody>\n",
       "</table>\n",
       "<p>5 rows × 47 columns</p>\n",
       "</div>"
      ],
      "text/plain": [
       "        age  education  housing  loan  duration  campaign  pdays  previous  \\\n",
       "0  3.367296        4.0        1     1  8.252340         3    999         0   \n",
       "1  3.912023        1.0        0     0  7.317985         6    999         0   \n",
       "2  3.367296        1.0        0     0  6.309758         4    999         0   \n",
       "3  3.555348        1.0        0     0  6.799259         1    999         0   \n",
       "4  3.688879        6.0        0     0  9.042361         1    999         0   \n",
       "\n",
       "   emp.var.rate  cons.price.idx  ...  month_oct  month_sep  day_of_week_fri  \\\n",
       "0           1.4          93.918  ...          0          0                1   \n",
       "1           1.4          94.465  ...          0          0                0   \n",
       "2           1.4          93.444  ...          0          0                0   \n",
       "3           1.1          93.994  ...          0          0                0   \n",
       "4          -1.8          92.893  ...          0          0                0   \n",
       "\n",
       "   day_of_week_mon  day_of_week_thu  day_of_week_tue  day_of_week_wed  \\\n",
       "0                0                0                0                0   \n",
       "1                0                0                0                1   \n",
       "2                0                0                1                0   \n",
       "3                0                1                0                0   \n",
       "4                0                0                1                0   \n",
       "\n",
       "   poutcome_failure  poutcome_nonexistent  poutcome_success  \n",
       "0                 0                     1                 0  \n",
       "1                 0                     1                 0  \n",
       "2                 0                     1                 0  \n",
       "3                 0                     1                 0  \n",
       "4                 0                     1                 0  \n",
       "\n",
       "[5 rows x 47 columns]"
      ]
     },
     "execution_count": 56,
     "metadata": {},
     "output_type": "execute_result"
    }
   ],
   "source": [
    "over_sampler = RandomOverSampler(random_state=42)\n",
    "X_train_over, y_train_over = over_sampler.fit_resample(X_train,y_train)\n",
    "print(\"X_train_over shape:\", X_train_over.shape)\n",
    "X_train_over.head()"
   ]
  },
  {
   "cell_type": "markdown",
   "id": "3daf5d3c",
   "metadata": {},
   "source": [
    "## Build Model"
   ]
  },
  {
   "cell_type": "markdown",
   "id": "dc0a7c97",
   "metadata": {},
   "source": [
    "## Model evaluation using regression algorithm"
   ]
  },
  {
   "cell_type": "code",
   "execution_count": 57,
   "id": "3858142e",
   "metadata": {},
   "outputs": [
    {
     "name": "stdout",
     "output_type": "stream",
     "text": [
      "{'C': 1.0, 'class_weight': None, 'dual': False, 'fit_intercept': True, 'intercept_scaling': 1, 'l1_ratio': None, 'max_iter': 3000, 'multi_class': 'auto', 'n_jobs': None, 'penalty': 'l2', 'random_state': None, 'solver': 'lbfgs', 'tol': 0.0001, 'verbose': 0, 'warm_start': False}\n"
     ]
    }
   ],
   "source": [
    "from sklearn.linear_model import LogisticRegression\n",
    "# Instantiate the logistic regression classifier: logreg\n",
    "logreg = LogisticRegression(max_iter = 3000)\n",
    "\n",
    "# Print logistic regression hyperparameters\n",
    "print(logreg.get_params())"
   ]
  },
  {
   "cell_type": "code",
   "execution_count": 58,
   "id": "f76adcd4",
   "metadata": {},
   "outputs": [
    {
     "name": "stdout",
     "output_type": "stream",
     "text": [
      "Tuned Logistic Regression Parameter: {'C': 100000000.0, 'penalty': 'l2', 'solver': 'liblinear'}\n",
      "Tuned Logistic Regression Accuracy: 0.9396159481611732\n"
     ]
    }
   ],
   "source": [
    "# Create the hyperparameter grid\n",
    "c_space = np.logspace(-5, 8, 15)\n",
    "param_logreg = {'C': c_space, 'penalty': ['l2' or 'none' or 'l1'], 'solver': ['liblinear','lbfgs']}\n",
    "# param_logreg = {'C': [0.001, 0.01, 0.1, 1, 10], 'penalty': ['l2' or 'none' or 'l1'],'solver': ['liblinear','lbfgs']}\n",
    "\n",
    "# Instantiate the GridSearchCV object: Grid_logreg\n",
    "Grid_logreg = GridSearchCV(estimator = logreg , param_grid = param_logreg, scoring='roc_auc', cv = 10, n_jobs = -1)\n",
    "\n",
    "# Fit it to the training data\n",
    "Grid_logreg.fit(X_train_over,y_train_over)\n",
    "\n",
    "# Print the optimal parameters and best score\n",
    "print(\"Tuned Logistic Regression Parameter: {}\".format(Grid_logreg.best_params_))\n",
    "print(\"Tuned Logistic Regression Accuracy: {}\".format(Grid_logreg.best_score_))\n",
    "\n",
    "# # Report the test accuracy using these best parameters\n",
    "# print(\"Test accuracy of best grid search hypers:\", Grid_logreg.score(x_val_fold,y_val_fold))"
   ]
  },
  {
   "cell_type": "markdown",
   "id": "fa59a7bc",
   "metadata": {},
   "source": [
    "### XGBoost model"
   ]
  },
  {
   "cell_type": "code",
   "execution_count": 59,
   "id": "68308c2c",
   "metadata": {},
   "outputs": [
    {
     "name": "stdout",
     "output_type": "stream",
     "text": [
      "XGB accuracy score for train: 0.932: test: 0.873\n"
     ]
    }
   ],
   "source": [
    "#train XGBoost model\n",
    "xgb = xgboost.XGBClassifier(n_estimators=100, learning_rate=0.08, gamma=0, subsample=0.75,\n",
    "                           colsample_bytree=1, max_depth=7)\n",
    "xgb.fit(X_train_over,y_train_over.squeeze().values)\n",
    "\n",
    "#calculate and print scores for the model for top 15 features\n",
    "y_train_preds = xgb.predict(X_train_over)\n",
    "y_test_preds = xgb.predict(X_test)\n",
    "\n",
    "print('XGB accuracy score for train: %.3f: test: %.3f' % (\n",
    "        accuracy_score(y_train_over, y_train_preds),\n",
    "        accuracy_score(y_test, y_test_preds)))"
   ]
  },
  {
   "cell_type": "code",
   "execution_count": 60,
   "id": "16c47505",
   "metadata": {},
   "outputs": [
    {
     "data": {
      "image/png": "[encoded data removed]",
      "text/plain": [
       "<Figure size 960x480 with 1 Axes>"
      ]
     },
     "metadata": {
      "needs_background": "light"
     },
     "output_type": "display_data"
    }
   ],
   "source": [
    "#get feature importances from the model\n",
    "from matplotlib.pyplot import figure\n",
    "figure(figsize=(12, 6), dpi=80)\n",
    "\n",
    "headers = [\"name\", \"score\"]\n",
    "values = sorted(zip(X_train.columns, xgb.feature_importances_), key=lambda x: x[1] * -1)\n",
    "xgb_feature_importances = pd.DataFrame(values, columns = headers)\n",
    "\n",
    "#plot feature importances\n",
    "x_pos = np.arange(0, len(xgb_feature_importances))\n",
    "plt.bar(x_pos, xgb_feature_importances['score'])\n",
    "plt.xticks(x_pos, xgb_feature_importances['name'])\n",
    "plt.xticks(rotation=90)\n",
    "plt.title('Feature importances (XGB)')\n",
    "\n",
    "plt.show()"
   ]
  },
  {
   "cell_type": "markdown",
   "id": "a712de9a",
   "metadata": {},
   "source": [
    "Here we can see that earlier, duration was the important feature based on random forest and gini index, but as we see from the xgboost alogorith, employed is the important feature. Based on the employment we can say whether user will subscribe the service or not."
   ]
  },
  {
   "cell_type": "markdown",
   "id": "7d5ec9c2",
   "metadata": {},
   "source": [
    "As we can see from the diagram showing feature importances, the most important features are:\n",
    "Customer's employement,\n",
    "cons.fonfidx,\n",
    "duration"
   ]
  },
  {
   "cell_type": "code",
   "execution_count": 61,
   "id": "0530155e",
   "metadata": {},
   "outputs": [],
   "source": [
    "df.loc[df['y'] == 'yes', 'y'] = 1\n",
    "df.loc[df['y'] == 'no', 'y'] = 0"
   ]
  },
  {
   "cell_type": "code",
   "execution_count": 62,
   "id": "1cfaa4e7",
   "metadata": {},
   "outputs": [
    {
     "data": {
      "image/png": "[encoded data removed]",
      "text/plain": [
       "<Figure size 432x288 with 1 Axes>"
      ]
     },
     "metadata": {
      "needs_background": "light"
     },
     "output_type": "display_data"
    }
   ],
   "source": [
    "df_new = df.copy()\n",
    "#introduce new column 'balance_buckets' to  ''\n",
    "df_new['employed_buckets'] = pd.qcut(df['nr.employed'], 50, labels=False, duplicates = 'drop')\n",
    "df.replace({False: 0, True: 1}, inplace=True)\n",
    "\n",
    "#group by 'balance_buckets' and find average campaign outcome per balance bucket\n",
    "mean_deposit = df_new.groupby(['employed_buckets'])['y'].mean()\n",
    "\n",
    "#plot\n",
    "plt.plot(mean_deposit.index, mean_deposit.values)\n",
    "plt.title('Mean % subscription depending on employed')\n",
    "plt.xlabel('employed bucket')\n",
    "plt.ylabel('% subscription')\n",
    "plt.show()"
   ]
  },
  {
   "cell_type": "code",
   "execution_count": 63,
   "id": "04d92eba",
   "metadata": {},
   "outputs": [
    {
     "data": {
      "image/png": "[encoded data removed]",
      "text/plain": [
       "<Figure size 432x288 with 1 Axes>"
      ]
     },
     "metadata": {
      "needs_background": "light"
     },
     "output_type": "display_data"
    }
   ],
   "source": [
    "df_new = df.copy()\n",
    "#introduce new column 'balance_buckets' to  ''\n",
    "df_new['duration_buckets'] = pd.qcut(df['duration'], 50, labels=False, duplicates = 'drop')\n",
    "df.replace({False: 0, True: 1}, inplace=True)\n",
    "\n",
    "#group by 'balance_buckets' and find average campaign outcome per balance bucket\n",
    "mean_deposit = df_new.groupby(['duration_buckets'])['y'].mean()\n",
    "\n",
    "#plot\n",
    "plt.plot(mean_deposit.index, mean_deposit.values)\n",
    "plt.title('Mean % subscription depending on duration')\n",
    "plt.xlabel('duration bucket')\n",
    "plt.ylabel('% subscription')\n",
    "plt.show()"
   ]
  },
  {
   "cell_type": "code",
   "execution_count": 64,
   "id": "724ac269",
   "metadata": {},
   "outputs": [
    {
     "data": {
      "image/png": "[encoded data removed]",
      "text/plain": [
       "<Figure size 432x288 with 1 Axes>"
      ]
     },
     "metadata": {
      "needs_background": "light"
     },
     "output_type": "display_data"
    }
   ],
   "source": [
    "df_new = df.copy()\n",
    "#introduce new column 'balance_buckets' to  ''\n",
    "df_new['age_buckets'] = pd.qcut(df['age'], 50, labels=False, duplicates = 'drop')\n",
    "df.replace({False: 0, True: 1}, inplace=True)\n",
    "\n",
    "mean_deposit = df_new.groupby(['age_buckets'])['y'].mean()\n",
    "\n",
    "#plot\n",
    "plt.plot(mean_deposit.index, mean_deposit.values)\n",
    "plt.title('Mean % subscription depending on age')\n",
    "plt.xlabel('age bucket')\n",
    "plt.ylabel('% subscription')\n",
    "plt.show()"
   ]
  },
  {
   "cell_type": "markdown",
   "id": "73adcb86",
   "metadata": {},
   "source": [
    "Conclusion: \n",
    "As per the graph, we can see that based on age the outcome of subscription is very low in the middle order range. it is high in the young age group and older people.\n",
    "Duration is also played a key role in the outcome. With the duration of the talk, chances are high for a subscription. a graph is showing a continuous increasing pattern."
   ]
  }
 ],
 "metadata": {
  "kernelspec": {
   "display_name": "Python 3 (ipykernel)",
   "language": "python",
   "name": "python3"
  },
  "language_info": {
   "codemirror_mode": {
    "name": "ipython",
    "version": 3
   },
   "file_extension": ".py",
   "mimetype": "text/x-python",
   "name": "python",
   "nbconvert_exporter": "python",
   "pygments_lexer": "ipython3",
   "version": "3.9.12"
  }
 },
 "nbformat": 4,
 "nbformat_minor": 5
}
